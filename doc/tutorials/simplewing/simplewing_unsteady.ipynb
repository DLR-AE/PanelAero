{
 "cells": [
  {
   "cell_type": "markdown",
   "id": "3538aa5a-ffff-46db-a50e-2757151d302d",
   "metadata": {},
   "source": [
    "# Simple Wing with Unsteady Aerodynamics\n",
    "After the steady aerodynamic case using the Vortec Lattice Method (VLM), this tutorial demonstrates on how to use the unsteady Doublet Lattice Method (DLM) at the example of the same, simple wing. Assuming that you already did the steady case, we will shorten/skip some of the explanations.\n",
    "\n",
    "It is also assumed that you sucessfully installed PanelAero as a Python package as described in the [README](https://github.com/DLR-AE/PanelAero?tab=readme-ov-file#installation--use).\n",
    "\n",
    "In addition to the DLM inself, this tutorial also uses numpy and some helper functions provided along with the tutorials."
   ]
  },
  {
   "cell_type": "code",
   "execution_count": null,
   "id": "f6690bb8-9b7f-4a41-a4b4-4e0ff06b2dfc",
   "metadata": {},
   "outputs": [],
   "source": [
    "import numpy as np\n",
    "\n",
    "from panelaero import DLM\n",
    "\n",
    "from tutorials.helper_functions import build_aeromodel, plotting"
   ]
  },
  {
   "cell_type": "markdown",
   "id": "86ef8897-486e-4a68-a105-0b93db28f476",
   "metadata": {},
   "source": [
    "## Set-up of Geometry\n",
    "As before, we parse the aerodynamic grid of our simple, rectangular wing defined by the CAERO1 card."
   ]
  },
  {
   "cell_type": "code",
   "execution_count": null,
   "id": "084da664-c344-4ec0-8b91-90ee90027821",
   "metadata": {},
   "outputs": [],
   "source": [
    "model = build_aeromodel.AeroModel('./simplewing.CAERO1')\n",
    "model.build_aerogrid()\n",
    "plots = plotting.DetailedPlots(model)\n",
    "plots.plot_aerogrid(embed_in_notebook=True)"
   ]
  },
  {
   "cell_type": "markdown",
   "id": "52e947bc-7854-4389-a62f-4396ddaecee5",
   "metadata": {},
   "source": [
    "## Calculate the AIC Matrix\n",
    "The Doublet Lattice Method (DLM) uses the same geoemtrical description of the lifting surface with aeroynamic panels as the VLM. However, the underlying modeling uses doublets insteady of vortices and works in the frequency domain. \n",
    "\n",
    "Like the VLM, the DLM provided in this software calculates a matrix of so-called aerodynamic influence coefficients (AIC), which depends on the geometry, the Mach number and the reduced frequency, defined by\n",
    "\n",
    "$$k = \\frac{ \\omega }{V}$$\n",
    "\n",
    "Note that the \"Nastran definition\" of the reduced frequency adds $c_\\textup{ref}/2$, leading to \n",
    "\n",
    "$$k = {c_{ref} \\over 2V} \\cdot \\omega$$\n",
    "\n",
    "As before, the $\\mathbf{AIC}$ matrix then relates the induced downwash $\\mathbf{w_j}$ on each aerodynamic panel to complex pressure coefficients $\\mathbf{\\Delta c_p}$.\n",
    "\n",
    "$$\\mathbf{\\Delta c_p} = \\mathbf{AIC}(Ma, k) \\cdot \\mathbf{w_j}$$\n",
    "\n",
    "For more information on the theoretical background of the DLM, please consult Section 2.3 in the Technical Report DLR-IB-AE-GO-2020-137.\n",
    "\n",
    "The $\\mathbf{AIC}$ matrix (called Qjj in the following) is obtained in the following way:"
   ]
  },
  {
   "cell_type": "code",
   "execution_count": null,
   "id": "fa69f70a-cef1-473e-b45e-a9112b37e2a0",
   "metadata": {},
   "outputs": [],
   "source": [
    "Qjj = DLM.calc_Qjj(model.aerogrid, Ma=0.0, k=0.1)"
   ]
  },
  {
   "cell_type": "markdown",
   "id": "73ae40c7-6be5-4892-a83d-cc2c462cc1af",
   "metadata": {},
   "source": [
    "Next, let's assume the same onflow condition with Vtas = 25.0 m/s and an induced downwash of wj = 2.18 m/s on every panels, which corresponds to an angle of attack = 5.0 deg. Remember that the downwash is scaled with Vtas."
   ]
  },
  {
   "cell_type": "code",
   "execution_count": null,
   "id": "36e05a09-a8e8-41d6-a07f-2c346c85447c",
   "metadata": {},
   "outputs": [],
   "source": [
    "Vtas = 25.0\n",
    "wj = np.ones(model.aerogrid['n']) * 2.18 / Vtas"
   ]
  },
  {
   "cell_type": "markdown",
   "id": "5ea5ba2d-58d2-4698-9aa6-539afcac4f6d",
   "metadata": {},
   "source": [
    "Following the formula given above, multiplication of the downwash vector $\\mathbf{w_j}$ with the $\\mathbf{AIC}$ matrix yields the pressure coefficient distribution $\\mathbf{\\Delta c_p}$."
   ]
  },
  {
   "cell_type": "code",
   "execution_count": null,
   "id": "2c3aa2f6-603c-4e00-9c63-ce9536a6127b",
   "metadata": {},
   "outputs": [],
   "source": [
    "cp = Qjj.dot(wj)"
   ]
  },
  {
   "cell_type": "markdown",
   "id": "a7e5e789-1533-4dee-a25b-c82ed4aa1194",
   "metadata": {},
   "source": [
    "## Vizualisation of Results\n",
    "The pressure coefficient distribution may be visualized on the geometry using the helper function provided along with this tutorial. Becasue we selected $k=0.1$ above, the pressure coefficients will be complex, so we vizualize the real and the imaginary part seperately. Compared to the steady aerodynamic approach using the VLM, the complex pressure coefficients obtained from the DLM change the magnitude and add a phase shift depending on the prescribed reduced frequency $k$."
   ]
  },
  {
   "cell_type": "code",
   "execution_count": null,
   "id": "ee6da93c-8de5-48a4-a5c6-93edcb190d89",
   "metadata": {},
   "outputs": [],
   "source": [
    "plots.plot_aerogrid(cp.real, embed_in_notebook=True)"
   ]
  },
  {
   "cell_type": "code",
   "execution_count": null,
   "id": "ccb2bb14-0671-4b4f-90be-4150d5e05c08",
   "metadata": {},
   "outputs": [],
   "source": [
    "plots.plot_aerogrid(cp.imag, embed_in_notebook=True)"
   ]
  },
  {
   "cell_type": "markdown",
   "id": "b02c64e3-8db5-442c-a046-3e9838276bfc",
   "metadata": {},
   "source": [
    "## Advanced Use\n",
    "For most aeroelastic applications, typically the $\\mathbf{AIC}$ matrices are needed for different Mach numbers and for multiple reduced frequencies $k$. The function DLM.calc_Qjjs() accepts a lists as input and returns a four-dimensional array with the shape (n_mach, n_k, n_panels, n_panels] as shown in the example below."
   ]
  },
  {
   "cell_type": "code",
   "execution_count": null,
   "id": "8828ac26-ae2b-4d9a-a2c3-79b1667f3ba8",
   "metadata": {},
   "outputs": [],
   "source": [
    "Qjjs = DLM.calc_Qjjs(model.aerogrid, Ma=[0.0, 0.5], k=[0.01, 0.1, 0.3, 0.5])\n",
    "Qjjs.shape"
   ]
  }
 ],
 "metadata": {
  "kernelspec": {
   "display_name": "Python 3 (ipykernel)",
   "language": "python",
   "name": "python3"
  },
  "language_info": {
   "codemirror_mode": {
    "name": "ipython",
    "version": 3
   },
   "file_extension": ".py",
   "mimetype": "text/x-python",
   "name": "python",
   "nbconvert_exporter": "python",
   "pygments_lexer": "ipython3",
   "version": "3.10.13"
  }
 },
 "nbformat": 4,
 "nbformat_minor": 5
}
