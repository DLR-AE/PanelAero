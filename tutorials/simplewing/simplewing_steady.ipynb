{
 "cells": [
  {
   "cell_type": "markdown",
   "id": "3538aa5a-ffff-46db-a50e-2757151d302d",
   "metadata": {},
   "source": [
    "# Simple Wing with Steady Aerodynamics\n",
    "This is a short demonstration on how to use the Vortex Lattice Method (VLM) at the example of a simple wing.\n",
    "\n",
    "It is also assumed that you sucessfully installed the software as a Python package as described in the [README](https://github.com/DLR-AE/PanelAero?tab=readme-ov-file#installation--use).\n",
    "\n",
    "Let's see if we can import the software, which is a good indictor for a sucessful installation. In addition to the VLM inself, this tutorial also uses numpy and some helper functions provided along with the tutorials."
   ]
  },
  {
   "cell_type": "code",
   "execution_count": null,
   "id": "f6690bb8-9b7f-4a41-a4b4-4e0ff06b2dfc",
   "metadata": {},
   "outputs": [],
   "source": [
    "import numpy as np\n",
    "\n",
    "from panelaero import VLM\n",
    "\n",
    "from tutorials.helper_functions import build_aeromodel, plotting"
   ]
  },
  {
   "cell_type": "markdown",
   "id": "86ef8897-486e-4a68-a105-0b93db28f476",
   "metadata": {},
   "source": [
    "## Set-up of Geometry\n",
    "The geometry of the lifting surfaces is typically described using CAERO1 cards in Nastran eight-character-notation. Each field has exactly 8 characters and the format is defined in the following way:\n",
    "```\n",
    "$------><------><------><------><------><------><------><------><------>\n",
    "CAERO1  EID             CP      NSPAN   NCHORD                          +  \n",
    "+       X1      Y1      Z1      X12     X4      Y4      Z4      X34\n",
    "```\n",
    "With:\n",
    "\n",
    "EID = Element identification number  \n",
    "CP  = Coordinate system  \n",
    "NSPAN = Number of spanwise panels  \n",
    "NCHORD = Number of chordwise panels  \n",
    "X1, Y1, Z1 = Location of wing root leading edge  \n",
    "X4, Y4, Z4 = Location of wing tip leading edge  \n",
    "X12, X34 = Chord length at wing root and tip  \n",
    "\n",
    "Note that Nastran allows more fields / options on this card (see Nastran Quick Reference Guide), but not all of them are needed for this example or are not supported and skipped by the reader.\n",
    "\n",
    "\n",
    "This is the CAERO1 input card for a simple, rectangular wing with a wing span of 1.104 m, measured from tip to tip, and a chord length of 0.1 m. The wing is discretized with 40x10 panels.\n",
    "```\n",
    "$------><------><------><------><------><------><------><------><------>\n",
    "CAERO1   6401001    1001       0      40      10                       1+       \n",
    "+            0.0  -0.552     0.0     0.1     0.0  +0.552     0.0     0.1\n",
    "```\n",
    "\n",
    "A simple reader (build_aeromodel.py) is provied along with the examples, which is now used to parse the CAERO1 card."
   ]
  },
  {
   "cell_type": "code",
   "execution_count": null,
   "id": "084da664-c344-4ec0-8b91-90ee90027821",
   "metadata": {},
   "outputs": [],
   "source": [
    "model = build_aeromodel.AeroModel('./simplewing.CAERO1')\n",
    "model.build_aerogrid()"
   ]
  },
  {
   "cell_type": "markdown",
   "id": "333a4a40-221a-4cf8-949f-8db21e6711f7",
   "metadata": {},
   "source": [
    "The result is a Python dictionary, which contains the geometrical information of all 400 aerodynamic panels. If you have Mayavi installed, the aerogrid can be visualized using the plotting routines (plotting.py) provided along with the examples."
   ]
  },
  {
   "cell_type": "code",
   "execution_count": null,
   "id": "561965f7-4ca5-43e3-ac2f-46a265c27a01",
   "metadata": {},
   "outputs": [],
   "source": [
    "plots = plotting.DetailedPlots(model)\n",
    "plots.plot_aerogrid(embed_in_notebook=True)"
   ]
  },
  {
   "cell_type": "markdown",
   "id": "52e947bc-7854-4389-a62f-4396ddaecee5",
   "metadata": {},
   "source": [
    "## Calculate the AIC Matrix\n",
    "Based on a given aerodynamic grid, the Vortex Lattice Method (VLM) provided in this software calculates a matrix of so-called aerodynamic influence coefficients (AIC), which depends only on the geometry and the Mach number. The $\\mathbf{AIC}$ matrix then relates an induced downwash $\\mathbf{w_j}$ on each aerodynamic panel to a circulation strength $\\Gamma_j$, which is translated to a pressure coefficient $c_p$.\n",
    "$$\\mathbf{\\Delta c_p} = \\mathbf{AIC}(Ma) \\cdot \\mathbf{w_j}$$\n",
    "The $\\mathbf{AIC}$ matrix (called Qjj in the following) is obtained in the following way:"
   ]
  },
  {
   "cell_type": "code",
   "execution_count": null,
   "id": "fa69f70a-cef1-473e-b45e-a9112b37e2a0",
   "metadata": {},
   "outputs": [],
   "source": [
    "Qjj, _ = VLM.calc_Qjj(model.aerogrid, Ma=0.0)"
   ]
  },
  {
   "cell_type": "markdown",
   "id": "73ae40c7-6be5-4892-a83d-cc2c462cc1af",
   "metadata": {},
   "source": [
    "Next, let's assume an onflow condition with Vtas = 25.0 m/s and an induced downwash of wj = 2.18 m/s on every panels, which corresponds to an angle of attack = 5.0 deg. Note that the downwash is scaled with Vtas."
   ]
  },
  {
   "cell_type": "code",
   "execution_count": null,
   "id": "36e05a09-a8e8-41d6-a07f-2c346c85447c",
   "metadata": {},
   "outputs": [],
   "source": [
    "Vtas = 25.0\n",
    "wj = np.ones(model.aerogrid['n']) * 2.18 / Vtas"
   ]
  },
  {
   "cell_type": "markdown",
   "id": "5ea5ba2d-58d2-4698-9aa6-539afcac4f6d",
   "metadata": {},
   "source": [
    "Following the formula given above, multiplication of the downwash vector $\\mathbf{w_j}$ with the $\\mathbf{AIC}$ matrix yields the pressure coefficient distribution $\\mathbf{\\Delta c_p}$"
   ]
  },
  {
   "cell_type": "code",
   "execution_count": null,
   "id": "2c3aa2f6-603c-4e00-9c63-ce9536a6127b",
   "metadata": {},
   "outputs": [],
   "source": [
    "cp = Qjj.dot(wj)"
   ]
  },
  {
   "cell_type": "markdown",
   "id": "a7e5e789-1533-4dee-a25b-c82ed4aa1194",
   "metadata": {},
   "source": [
    "## Vizualisation of Results\n",
    "The pressure coefficient distribution may be visualized on the geometry using the helper function from above.\n",
    "\n",
    "Advanced option: To get an interactive 3D plot, use 'embed_in_notebook=False', which renders the plot in a new window."
   ]
  },
  {
   "cell_type": "code",
   "execution_count": null,
   "id": "ee6da93c-8de5-48a4-a5c6-93edcb190d89",
   "metadata": {},
   "outputs": [],
   "source": [
    "plots.plot_aerogrid(cp, embed_in_notebook=True)"
   ]
  },
  {
   "cell_type": "markdown",
   "id": "a26c0090-c7a2-45a8-9cba-f7516050a6d0",
   "metadata": {},
   "source": [
    "For many applications, including aeroelasticity, not nly the pressure distribution but the aerodynamic force vector is needed. From the pressure coefficient distribution cp, the aerodynamic forces Fxyz can be calculated by multiplication with area A and the normal vector of every panels as well as the dynamic pressure. "
   ]
  },
  {
   "cell_type": "code",
   "execution_count": null,
   "id": "e4b58a7c-a8a3-4856-97a4-4759c7f0faff",
   "metadata": {},
   "outputs": [],
   "source": [
    "q_dyn = 1.225 / 2.0 * Vtas ** 2\n",
    "Fxyz = q_dyn * model.aerogrid['N'].T * model.aerogrid['A'] * cp"
   ]
  },
  {
   "cell_type": "markdown",
   "id": "7a7760ba-e24f-4f7b-bb96-99eebc8e9023",
   "metadata": {},
   "source": [
    "The force vector Fxyz has the shape 3 x 400, reflecting the aerodynamic forces in x-, y- and z-direction per panel. Calculating the sums from all panels,  the aerodynamic lift created by the wing should be Fz = 18.47 N. The componetns Fx and Fy should be zero in this case, because the wing has no dihedral and the VLM calculates no drag."
   ]
  },
  {
   "cell_type": "code",
   "execution_count": null,
   "id": "893bb1f4-3253-4de8-b0b6-486b0a8748c6",
   "metadata": {},
   "outputs": [],
   "source": [
    "Fxyz.sum(axis=1)"
   ]
  },
  {
   "cell_type": "markdown",
   "id": "b02c64e3-8db5-442c-a046-3e9838276bfc",
   "metadata": {},
   "source": [
    "## Summary\n",
    "This tutorial demonstrated how to discretize a simple wing with aerodynamic panels and how to calculate an $\\mathbf{AIC}$ matrix. After that, we vizualized the resulting pressure distribution and explored how to calculate a force vector from the pressures. \n",
    "\n",
    "For more information on the theoretical background of the VLM, please consult the Technical Report DLR-IB-AE-GO-2020-137."
   ]
  }
 ],
 "metadata": {
  "kernelspec": {
   "display_name": "Python 3 (ipykernel)",
   "language": "python",
   "name": "python3"
  },
  "language_info": {
   "codemirror_mode": {
    "name": "ipython",
    "version": 3
   },
   "file_extension": ".py",
   "mimetype": "text/x-python",
   "name": "python",
   "nbconvert_exporter": "python",
   "pygments_lexer": "ipython3",
   "version": "3.10.13"
  }
 },
 "nbformat": 4,
 "nbformat_minor": 5
}
